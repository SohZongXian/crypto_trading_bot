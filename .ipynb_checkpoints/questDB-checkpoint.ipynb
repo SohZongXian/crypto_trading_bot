{
 "cells": [
  {
   "cell_type": "code",
   "execution_count": 1,
   "id": "27171844-89f5-48b3-be04-63614e40ca30",
   "metadata": {},
   "outputs": [],
   "source": [
    "using Plots, Statistics, StatsBase, DataFrames, DataFramesMeta\n",
    "using CoinbasePro"
   ]
  },
  {
   "cell_type": "code",
   "execution_count": 2,
   "id": "e4ad76d3-f9b1-4937-bb68-d24763880a16",
   "metadata": {},
   "outputs": [
    {
     "data": {
      "text/html": [
       "<div><div style = \"float: left;\"><span>1×7 DataFrame</span></div><div style = \"clear: both;\"></div></div><div class = \"data-frame\" style = \"overflow-x: scroll;\"><table class = \"data-frame\" style = \"margin-bottom: 6px;\"><thead><tr class = \"header\"><th class = \"rowNumber\" style = \"font-weight: bold; text-align: right;\">Row</th><th style = \"text-align: left;\">ask</th><th style = \"text-align: left;\">bid</th><th style = \"text-align: left;\">price</th><th style = \"text-align: left;\">size</th><th style = \"text-align: left;\">time</th><th style = \"text-align: left;\">trade_id</th><th style = \"text-align: left;\">volume</th></tr><tr class = \"subheader headerLastRow\"><th class = \"rowNumber\" style = \"font-weight: bold; text-align: right;\"></th><th title = \"Float64\" style = \"text-align: left;\">Float64</th><th title = \"Float64\" style = \"text-align: left;\">Float64</th><th title = \"Float64\" style = \"text-align: left;\">Float64</th><th title = \"Float64\" style = \"text-align: left;\">Float64</th><th title = \"String\" style = \"text-align: left;\">String</th><th title = \"Int64\" style = \"text-align: left;\">Int64</th><th title = \"Float64\" style = \"text-align: left;\">Float64</th></tr></thead><tbody><tr><td class = \"rowNumber\" style = \"font-weight: bold; text-align: right;\">1</td><td style = \"text-align: right;\">16081.3</td><td style = \"text-align: right;\">16079.2</td><td style = \"text-align: right;\">16081.3</td><td style = \"text-align: right;\">0.00087516</td><td style = \"text-align: left;\">2022-11-21T12:56:14.164764Z</td><td style = \"text-align: right;\">458588513</td><td style = \"text-align: right;\">28633.3</td></tr></tbody></table></div>"
      ],
      "text/latex": [
       "\\begin{tabular}{r|ccccccc}\n",
       "\t& ask & bid & price & size & time & trade\\_id & volume\\\\\n",
       "\t\\hline\n",
       "\t& Float64 & Float64 & Float64 & Float64 & String & Int64 & Float64\\\\\n",
       "\t\\hline\n",
       "\t1 & 16081.3 & 16079.2 & 16081.3 & 0.00087516 & 2022-11-21T12:56:14.164764Z & 458588513 & 28633.3 \\\\\n",
       "\\end{tabular}\n"
      ],
      "text/plain": [
       "\u001b[1m1×7 DataFrame\u001b[0m\n",
       "\u001b[1m Row \u001b[0m│\u001b[1m ask     \u001b[0m\u001b[1m bid     \u001b[0m\u001b[1m price   \u001b[0m\u001b[1m size       \u001b[0m\u001b[1m time                        \u001b[0m\u001b[1m tra\u001b[0m ⋯\n",
       "     │\u001b[90m Float64 \u001b[0m\u001b[90m Float64 \u001b[0m\u001b[90m Float64 \u001b[0m\u001b[90m Float64    \u001b[0m\u001b[90m String                      \u001b[0m\u001b[90m Int\u001b[0m ⋯\n",
       "─────┼──────────────────────────────────────────────────────────────────────────\n",
       "   1 │ 16081.3  16079.2  16081.3  0.00087516  2022-11-21T12:56:14.164764Z  458 ⋯\n",
       "\u001b[36m                                                               2 columns omitted\u001b[0m"
      ]
     },
     "execution_count": 2,
     "metadata": {},
     "output_type": "execute_result"
    }
   ],
   "source": [
    "tickerStats = CoinbasePro.ticker(\"BTC-USD\")"
   ]
  },
  {
   "cell_type": "code",
   "execution_count": 3,
   "id": "c49a07cd-2d93-45ae-8f0d-be9211ae4b6d",
   "metadata": {},
   "outputs": [],
   "source": [
    "struct Trade\n",
    "    id::String\n",
    "    time::String\n",
    "    price::Float64\n",
    "    size::Float64\n",
    "    side::Int64\n",
    "    ask::Float64\n",
    "    bid::Float64\n",
    "    exchange::String\n",
    "end\n",
    "\n",
    "Trade() = Trade(\"\", \"\", NaN, NaN, 0, \"\")\n",
    "\n",
    "Base.isempty(x::Trade) = x.id == \"\""
   ]
  },
  {
   "cell_type": "code",
   "execution_count": 4,
   "id": "2b9308aa-5021-4680-a45d-2b7c9f062fea",
   "metadata": {},
   "outputs": [],
   "source": [
    "using Distributed\n",
    "\n",
    "const trades = RemoteChannel(()->Channel{Trade}(500));"
   ]
  },
  {
   "cell_type": "code",
   "execution_count": 10,
   "id": "35a16300-c6cc-47d2-9431-0711d8d99080",
   "metadata": {},
   "outputs": [
    {
     "data": {
      "text/plain": [
       "save_coinbase_trades (generic function with 1 method)"
      ]
     },
     "execution_count": 10,
     "metadata": {},
     "output_type": "execute_result"
    }
   ],
   "source": [
    "using JSON\n",
    "using Dates\n",
    "using WebSockets\n",
    "\n",
    "coinbase_url = \"wss://ws-feed.pro.coinbase.com\"\n",
    "coinbase_subscribe_string = JSON.json(Dict(:type=>\"subscribe\", \n",
    "                         :product_ids=>[\"BTC-USD\"], \n",
    "                         :channels=>[\"ticker\", \"heartbeat\"]))\n",
    "\n",
    "function parse_coinbase_data(x)\n",
    "    if (get(x, \"type\", \"\") == \"heartbeat\") || (haskey(x, \"channels\"))\n",
    "        println(\"Worker $(myid()): Coinbase Heartbeat\")\n",
    "        return Trade()\n",
    "    end\n",
    "    \n",
    "    ts = get(x, \"time\", \"\")\n",
    "    ask = get(x, \"ask\", \"\")\n",
    "    bid = get(x, \"bid\", \"\")\n",
    "    \n",
    "    side = get(x, \"side\", \"\")\n",
    "    tradedprice = parse(Float64, get(x, \"price\", \"NaN\"))\n",
    "    size = parse(Float64, get(x, \"last_size\", \"NaN\"))\n",
    "    id = get(x, \"trade_id\", \"\")\n",
    "    \n",
    "    Trade(string(id), ts, tradedprice, size, lowercase(side) == \"buy\" ? 1 : -1, ask, bid,\"Coinbase\")\n",
    "end\n",
    "\n",
    "function save_coinbase_trades(coinbase_url, coinbase_subscribe_string)\n",
    "\n",
    "    WebSockets.open(coinbase_url) do ws\n",
    "        write(ws, coinbase_subscribe_string)\n",
    "        data, success = readguarded(ws)\n",
    "        println(\"Entering Loop\")\n",
    "        while true\n",
    "            data, success = readguarded(ws)\n",
    "            jdata = JSON.parse(String(data))\n",
    "            clean_data = parse_coinbase_data(jdata)\n",
    "            if !isempty(clean_data)\n",
    "              put!(trades, clean_data)\n",
    "            end\n",
    "        end\n",
    "    end\n",
    "    \n",
    "end"
   ]
  },
  {
   "cell_type": "code",
   "execution_count": 11,
   "id": "24c0cc3f-4bca-4887-90ab-5bac609ac240",
   "metadata": {},
   "outputs": [
    {
     "data": {
      "text/plain": [
       "build_payload (generic function with 1 method)"
      ]
     },
     "execution_count": 11,
     "metadata": {},
     "output_type": "execute_result"
    }
   ],
   "source": [
    "using Printf\n",
    "\n",
    "function parse_timestamp(ts::String)\n",
    "    \n",
    "    p1, p2 = split(ts, \".\")\n",
    "    \n",
    "    ut = datetime2unix(DateTime(p1)) * 1e9\n",
    "    ns = Nanosecond(rpad(chop(String(p2), tail=1), 9, \"0\"))\n",
    "    \n",
    "    @sprintf \"%.0f\" ut + ns.value \n",
    "end\n",
    "\n",
    "function build_payload(x::Trade)\n",
    "    buff = IOBuffer()\n",
    "    write(buff, \"coinbase_trades2,\")\n",
    "    write(buff, \"exchange=$(getfield(x, :exchange)), \")\n",
    "    for field in [:id, :price, :size]\n",
    "        val = getfield(x, field)\n",
    "        write(buff, \"$(field)=$(val),\")\n",
    "    end\n",
    "    write(buff, \"side=$(getfield(x, :side)) \")\n",
    "    \n",
    "    tspretty = parse_timestamp(getfield(x, :time))\n",
    "    \n",
    "    write(buff, tspretty)\n",
    "    write(buff, \"\\n\")\n",
    "    String(take!(buff))\n",
    "end"
   ]
  },
  {
   "cell_type": "code",
   "execution_count": 12,
   "id": "a284fb70-2d67-4011-989f-0592c71e3af7",
   "metadata": {},
   "outputs": [
    {
     "data": {
      "text/plain": [
       "save_trades_quest (generic function with 1 method)"
      ]
     },
     "execution_count": 12,
     "metadata": {},
     "output_type": "execute_result"
    }
   ],
   "source": [
    "using Sockets\n",
    "function save_trades_quest(trades)\n",
    "    cs = connect(\"localhost\", 9000)\n",
    "    while true\n",
    "        payload = build_payload(take!(trades))\n",
    "        write(cs, (payload))\n",
    "    end\n",
    "    close(cs)\n",
    "end"
   ]
  },
  {
   "cell_type": "code",
   "execution_count": 16,
   "id": "ef4f3f76-6bf7-49b3-af99-ab8f46335cca",
   "metadata": {},
   "outputs": [
    {
     "data": {
      "text/plain": [
       "Task (runnable) @0x000001b0d3271f10"
      ]
     },
     "execution_count": 16,
     "metadata": {},
     "output_type": "execute_result"
    },
    {
     "name": "stdout",
     "output_type": "stream",
     "text": [
      "Entering Loop\n",
      "Worker 1: Coinbase Heartbeat\n"
     ]
    }
   ],
   "source": [
    "@async save_coinbase_trades(coinbase_url, coinbase_subscribe_string)\n",
    "@async save_trades_quest(trades)"
   ]
  },
  {
   "cell_type": "code",
   "execution_count": null,
   "id": "d596883c-aeb1-4acc-a3dd-76f8652da7ce",
   "metadata": {},
   "outputs": [],
   "source": []
  }
 ],
 "metadata": {
  "kernelspec": {
   "display_name": "Julia 1.8.3",
   "language": "julia",
   "name": "julia-1.8"
  },
  "language_info": {
   "file_extension": ".jl",
   "mimetype": "application/julia",
   "name": "julia",
   "version": "1.8.3"
  }
 },
 "nbformat": 4,
 "nbformat_minor": 5
}
