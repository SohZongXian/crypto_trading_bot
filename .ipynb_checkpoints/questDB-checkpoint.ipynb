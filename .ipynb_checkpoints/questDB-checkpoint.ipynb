{
 "cells": [
  {
   "cell_type": "code",
   "execution_count": 2,
   "id": "4788983c-e988-4bc5-ab93-fdc4acc3da89",
   "metadata": {},
   "outputs": [],
   "source": [
    "struct Trade\n",
    "    id::String\n",
    "    time::String\n",
    "    price::Float64\n",
    "    size::Float64\n",
    "    side::Int64\n",
    "    exchange::String\n",
    "end\n",
    "\n",
    "Trade() = Trade(\"\", \"\", NaN, NaN, 0, \"\")\n",
    "\n",
    "Base.isempty(x::Trade) = x.id == \"\""
   ]
  },
  {
   "cell_type": "code",
   "execution_count": 10,
   "id": "ea4a7b2f-6784-47b0-8e6a-9ab17113f0dc",
   "metadata": {},
   "outputs": [
    {
     "data": {
      "text/plain": [
       "Trade(\"1\", \"time\", 111.0, 111.0, 111, \"aaa\")"
      ]
     },
     "execution_count": 10,
     "metadata": {},
     "output_type": "execute_result"
    }
   ],
   "source": [
    "s = Trade(\"1\", \"time\", 111,111,111,\"aaa\")"
   ]
  },
  {
   "cell_type": "code",
   "execution_count": null,
   "id": "2b9308aa-5021-4680-a45d-2b7c9f062fea",
   "metadata": {},
   "outputs": [],
   "source": []
  }
 ],
 "metadata": {
  "kernelspec": {
   "display_name": "Julia 1.8.3",
   "language": "julia",
   "name": "julia-1.8"
  },
  "language_info": {
   "file_extension": ".jl",
   "mimetype": "application/julia",
   "name": "julia",
   "version": "1.8.3"
  }
 },
 "nbformat": 4,
 "nbformat_minor": 5
}
