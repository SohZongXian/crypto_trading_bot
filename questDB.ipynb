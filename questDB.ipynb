{
 "cells": [
  {
   "cell_type": "code",
   "execution_count": 1,
   "id": "4788983c-e988-4bc5-ab93-fdc4acc3da89",
   "metadata": {},
   "outputs": [],
   "source": [
    "struct Trade\n",
    "    id::String\n",
    "    time::String\n",
    "    price::Float64\n",
    "    size::Float64\n",
    "    side::Int64\n",
    "    exchange::String\n",
    "end\n",
    "\n",
    "Trade() = Trade(\"\", \"\", NaN, NaN, 0, \"\")\n",
    "\n",
    "Base.isempty(x::Trade) = x.id == \"\""
   ]
  },
  {
   "cell_type": "code",
   "execution_count": 2,
   "id": "2b9308aa-5021-4680-a45d-2b7c9f062fea",
   "metadata": {},
   "outputs": [],
   "source": [
    "using Distributed\n",
    "\n",
    "const trades = RemoteChannel(()->Channel{Trade}(500));"
   ]
  },
  {
   "cell_type": "code",
   "execution_count": 7,
   "id": "35a16300-c6cc-47d2-9431-0711d8d99080",
   "metadata": {},
   "outputs": [
    {
     "data": {
      "text/plain": [
       "save_coinbase_trades (generic function with 1 method)"
      ]
     },
     "execution_count": 7,
     "metadata": {},
     "output_type": "execute_result"
    }
   ],
   "source": [
    "using JSON\n",
    "using Dates\n",
    "using WebSockets\n",
    "\n",
    "coinbase_url = \"wss://ws-feed.pro.coinbase.com\"\n",
    "coinbase_subscribe_string = JSON.json(Dict(:type=>\"subscribe\", \n",
    "                         :product_ids=>[\"BTC-USD\"], \n",
    "                         :channels=>[\"ticker\", \"heartbeat\"]))\n",
    "\n",
    "function parse_coinbase_data(x)\n",
    "    if (get(x, \"type\", \"\") == \"heartbeat\") || (haskey(x, \"channels\"))\n",
    "        println(\"Worker $(myid()): Coinbase Heartbeat\")\n",
    "        return Trade()\n",
    "    end\n",
    "    \n",
    "    ts = get(x, \"time\", \"\")\n",
    "    \n",
    "    side = get(x, \"side\", \"\")\n",
    "    tradedprice = parse(Float64, get(x, \"price\", \"NaN\"))\n",
    "    size = parse(Float64, get(x, \"last_size\", \"NaN\"))\n",
    "    id = get(x, \"trade_id\", \"\")\n",
    "    \n",
    "    Trade(string(id), ts, tradedprice, size, lowercase(side) == \"buy\" ? 1 : -1, \"Coinbase\")\n",
    "end\n",
    "\n",
    "function save_coinbase_trades(coinbase_url, coinbase_subscribe_string)\n",
    "\n",
    "    WebSockets.open(coinbase_url) do ws\n",
    "        write(ws, coinbase_subscribe_string)\n",
    "        data, success = readguarded(ws)\n",
    "        println(\"Entering Loop\")\n",
    "        while true\n",
    "            data, success = readguarded(ws)\n",
    "            jdata = JSON.parse(String(data))\n",
    "            clean_data = parse_coinbase_data(jdata)\n",
    "            if !isempty(clean_data)\n",
    "              put!(trades, clean_data)\n",
    "            end\n",
    "        end\n",
    "    end\n",
    "    \n",
    "end"
   ]
  },
  {
   "cell_type": "code",
   "execution_count": null,
   "id": "24c0cc3f-4bca-4887-90ab-5bac609ac240",
   "metadata": {},
   "outputs": [],
   "source": []
  }
 ],
 "metadata": {
  "kernelspec": {
   "display_name": "Julia 1.8.3",
   "language": "julia",
   "name": "julia-1.8"
  },
  "language_info": {
   "file_extension": ".jl",
   "mimetype": "application/julia",
   "name": "julia",
   "version": "1.8.3"
  }
 },
 "nbformat": 4,
 "nbformat_minor": 5
}
